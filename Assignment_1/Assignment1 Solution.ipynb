{
  "cells": [
    {
      "cell_type": "markdown",
      "id": "5ae5fa8d",
      "metadata": {
        "id": "5ae5fa8d"
      },
      "source": [
        "![iit-kanpur-logo.jpg](data:image/jpeg;base64,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)\n",
        "\n",
        "**CS724: Sensing, Communication and Networking for Smart Wireless Devices**\n",
        "\n",
        "# ASSIGNMENT 1\n",
        "\n",
        "      Name: Krishna Kumar Bais\n",
        "\n",
        "      Roll no: 241110038\n"
      ]
    },
    {
      "cell_type": "markdown",
      "id": "1c9fb188",
      "metadata": {
        "id": "1c9fb188"
      },
      "source": [
        "# Question - 1"
      ]
    },
    {
      "cell_type": "markdown",
      "id": "c6548fa0",
      "metadata": {
        "id": "c6548fa0"
      },
      "source": [
        "**(1)** Both vectors are linearly independent. Thus, the column space of matrix 𝐴 is 2D.\n",
        "\n",
        "**(2)** Both column vectors are linearly dependent, one of them can be expressed as a multiple of the other. Thus, the column space of matrix 𝐵 is 1D.\n",
        "\n",
        "**(3)** There are only two Linearly Independent Column vectors , we can obtain column_vector_2 from column_vector1, since one can be  expressed as a multiple of the other. Thus, the column space of matrix D is 2D."
      ]
    },
    {
      "cell_type": "markdown",
      "id": "7d234cc1",
      "metadata": {
        "id": "7d234cc1"
      },
      "source": [
        "\n",
        "# Question - 2"
      ]
    },
    {
      "cell_type": "markdown",
      "source": [
        " **Importing libraries for data analysis and visualization:**\n",
        "\n",
        "   1)numpy (np) for numerical operations and array handling\n",
        "\n",
        "   2)pandas (pd) for data manipulation and analysis with DataFrames\n",
        "\n",
        "   3)matplotlib.pyplot (mplt) for creating various types of plots and charts"
      ],
      "metadata": {
        "id": "CEoohO3A95iR"
      },
      "id": "CEoohO3A95iR"
    },
    {
      "cell_type": "code",
      "execution_count": 66,
      "id": "c600f3db",
      "metadata": {
        "id": "c600f3db"
      },
      "outputs": [],
      "source": [
        "import numpy as np\n",
        "import pandas as  pd\n",
        "import matplotlib.pyplot as mplt"
      ]
    },
    {
      "cell_type": "markdown",
      "id": "fc0ccce6",
      "metadata": {
        "id": "fc0ccce6"
      },
      "source": [
        "**Question 2a**\n",
        "\n",
        "function calculate_dist is used to calculate distance between user and satellite. Based on this distance,function then calculate time it takes for a signal to reach from satellite to user, with the result  displayed in ns respectively."
      ]
    },
    {
      "cell_type": "code",
      "execution_count": 70,
      "id": "8fbdb7bb",
      "metadata": {
        "id": "8fbdb7bb"
      },
      "outputs": [],
      "source": [
        "#fix  user at (100,100,100)\n",
        "user = [100,100,100]\n",
        "#random Location of five satellites s1,s2,s3,s4,s5\n",
        "s1 = [106,120,220]\n",
        "s2 = [52,21,147]\n",
        "s3 = [61,358,124]\n",
        "s4 = [97,133,115]\n",
        "s5 = [25,403,106]\n",
        "#s is speed of the light in m/s\n",
        "s = 3*10**8"
      ]
    },
    {
      "cell_type": "code",
      "execution_count": 69,
      "id": "637b4614",
      "metadata": {
        "id": "637b4614"
      },
      "outputs": [],
      "source": [
        "#Function calculate_dist() to calculate distance between user and satellite\n",
        "def calculate_dist(s):\n",
        "    a1 = (100 - s[0])**2\n",
        "    a2 = (100 - s[1])**2\n",
        "    a3 = (100 - s[2])**2\n",
        "    a = (a1+a2+a3)**(0.5)\n",
        "    return a"
      ]
    },
    {
      "cell_type": "code",
      "execution_count": 71,
      "id": "2c3f7c6b",
      "metadata": {
        "colab": {
          "base_uri": "https://localhost:8080/"
        },
        "id": "2c3f7c6b",
        "outputId": "8073f5a7-0e66-45db-8f8d-c0a422304ddb"
      },
      "outputs": [
        {
          "output_type": "stream",
          "name": "stdout",
          "text": [
            "Distance between user and s1 ,s2,s3 ,s4 ,s5 respectively are:\n",
            "  121.8031198286809 103.70149468546728 262.0324407396916 36.373066958946424 312.20185777794467\n"
          ]
        }
      ],
      "source": [
        "# d1,d2, d3,d4 ,d5 are distance between user & satellites s1,s2,s3,s4,s5\n",
        "d1 = calculate_dist(s1)\n",
        "d2 = calculate_dist(s2)\n",
        "d3 = calculate_dist(s3)\n",
        "d4 = calculate_dist(s4)\n",
        "d5 = calculate_dist(s5)\n",
        "print(\"Distance between user and s1 ,s2,s3 ,s4 ,s5 respectively are:\\n \",d1,d2,d3,d4,d5)"
      ]
    },
    {
      "cell_type": "code",
      "execution_count": 72,
      "id": "d94f7612",
      "metadata": {
        "colab": {
          "base_uri": "https://localhost:8080/"
        },
        "id": "d94f7612",
        "outputId": "a0fe2556-61ec-495e-a358-bd5551695f0c"
      },
      "outputs": [
        {
          "output_type": "stream",
          "name": "stdout",
          "text": [
            "Time taken for a signal to arrive from s1,s2,s3,s4,s5 to user respectively are :\n",
            " 406.01039942893635 ns  345.6716489515576 ns  873.4414691323053 ns  121.24355652982142 ns  1040.6728592598154 ns \n"
          ]
        }
      ],
      "source": [
        "# t1 ,t2 , t3 , t4,t5 indicate time taken for a signal to reach from each of satellites to user.\n",
        "# time is displayed in ns\n",
        "ns = 10 ** 9\n",
        "t1 = d1 / s\n",
        "t2 = d2 / s\n",
        "t3 = d3 / s\n",
        "t4 = d4 / s\n",
        "t5 = d5 / s\n",
        "print(\"Time taken for a signal to arrive from s1,s2,s3,s4,s5 to user respectively are :\\n\",t1*ns,\"ns \",t2*ns,\"ns \",t3*ns,\"ns \",t4*ns,\"ns \",t5*ns,\"ns \")\n"
      ]
    },
    {
      "cell_type": "markdown",
      "id": "4e08d1df",
      "metadata": {
        "id": "4e08d1df"
      },
      "source": [
        "**Question 2b**\n",
        "\n",
        "Now we do the opposite operation,  using the satellite locations and the times to find the location of the user and check whether the location of the user is coming exactly as (100,100,100). Computing  X as inverse(M_transpose * M) * (M_transpose * N)."
      ]
    },
    {
      "cell_type": "code",
      "execution_count": 73,
      "id": "2d0a9a5c",
      "metadata": {
        "colab": {
          "base_uri": "https://localhost:8080/"
        },
        "id": "2d0a9a5c",
        "outputId": "a731a72e-a929-4328-e3fb-36d964c5c662"
      },
      "outputs": [
        {
          "output_type": "stream",
          "name": "stdout",
          "text": [
            "Location of the user: \n",
            "[[100.]\n",
            " [100.]\n",
            " [100.]]\n"
          ]
        }
      ],
      "source": [
        "#satellites are s1,s2,s3 ,s4,s5\n",
        "matrix_a1 = [[2 *(s2[0] -s1[0]), 2 * (s2[1] -s1[1]), 2 * (s2[2]- s1[2])],\n",
        "              [2* (s3[0]-s2[0]), 2 * (s3[1] -s2[1]), 2* (s3[2] - s2[2])],\n",
        "              [2 *(s4[0] -s3[0]), 2 *(s4[1] -s3[1]),2 * (s4[2] - s3[2])],\n",
        "              [2 * (s5[0] -s4[0]),2 *(s5[1] -s4[1]), 2 * (s5[2] -s4[2])]]\n",
        "M = np.array(matrix_a1)\n",
        "\n",
        "matrix_a2 = [[(d1**2- d2**2)-(s1[0]**2 - s2[0]**2)- (s1[1]**2 - s2[1]**2) -(s1[2]**2- s2[2]**2)],\n",
        "            [(d2**2 - d3**2) -(s2[0]**2- s3[0]**2) -(s2[1]**2- s3[1]**2)- (s2[2]**2 -s3[2]**2)],\n",
        "              [(d3**2 - d4**2)-(s3[0]**2 -s4[0]**2)-(s3[1]**2 -s4[1]**2) -(s3[2]**2 - s4[2]**2)],\n",
        "              [(d4**2 -d5**2)-(s4[0]**2 -s5[0]**2) -(s4[1]**2 -s5[1]**2) -(s4[2]**2 - s5[2]**2)]]\n",
        "N = np.array(matrix_a2)\n",
        "\n",
        "# A = inverse(M_transpose * M) * (M_transpose * N)\n",
        "M_transpose = M.transpose()\n",
        "B = np.matmul(M_transpose , M)\n",
        "B_inverse = np.linalg.inv(B)\n",
        "W = np.matmul(M_transpose , N)\n",
        "A = np.matmul(B_inverse , W)\n",
        "print(\"Location of the user: \")\n",
        "print(A)"
      ]
    },
    {
      "cell_type": "markdown",
      "id": "7c9b7970",
      "metadata": {
        "id": "7c9b7970"
      },
      "source": [
        " **Question 2c**\n",
        "\n",
        "we are adding some random errors with the time and determining the corresponding location inaccuracy. The location inaccuracy is determined as the distance between the user's location after adding some random erros with the time and the user's fixed loaction (100,100,100)."
      ]
    },
    {
      "cell_type": "code",
      "execution_count": 74,
      "id": "c39b02b6",
      "metadata": {
        "colab": {
          "base_uri": "https://localhost:8080/"
        },
        "id": "c39b02b6",
        "outputId": "fe3db6e0-95bb-431f-f37c-f6ce84d86e56"
      },
      "outputs": [
        {
          "output_type": "stream",
          "name": "stdout",
          "text": [
            "New Location of the user: \n",
            "[[ 99.42816862]\n",
            " [100.17585302]\n",
            " [100.27457071]]\n",
            "location Inaccuracy:  [0.65825868]\n"
          ]
        }
      ],
      "source": [
        "#t1 ,t2 ,t3, t4, t5 indicate time taken for a signal to reach from each of satellites to user.\n",
        "# adding some random errors to the time in terms of (-1 to +1)ns\n",
        "rand_error = np.random.randint(-1,1,1)[0]\n",
        "t1 = t1*ns + rand_error\n",
        "t2 = t2*ns + rand_error\n",
        "t3 = t3*ns + rand_error\n",
        "t4 = t4*ns + rand_error\n",
        "t5 = t5*ns + rand_error\n",
        "\n",
        "#calucating the distance in meteres between the user and satellite considering the random errors added to the time\n",
        "d1 = s * t1/ns\n",
        "d2 = s * t2/ns\n",
        "d3 = s * t3/ns\n",
        "d4 = s * t4/ns\n",
        "d5 = s * t5/ns\n",
        "\n",
        "# update matrix_a2\n",
        "updated_matrix_a21 =[[(d1**2 - d2**2)-(s1[0]**2-s2[0]**2)-(s1[1]**2-s2[1]**2)-(s1[2]**2 -s2[2]**2)],\n",
        "           [(d2**2 -d3**2)-(s2[0]**2 - s3[0]**2)-(s2[1]**2 - s3[1]**2)-(s2[2]**2 - s3[2]**2)],\n",
        "           [(d3**2 - d4**2)-(s3[0]**2 - s4[0]**2)-(s3[1]**2 -s4[1]**2)-(s3[2]**2 -s4[2]**2)],\n",
        "           [(d4**2 -d5**2)-(s4[0]**2 -s5[0]**2)-(s4[1]**2 -s5[1]**2)-(s4[2]**2 - s5[2]**2)]]\n",
        "\n",
        "new_a21 =np.array(updated_matrix_a21)\n",
        "W1 = np.matmul(M_transpose , new_a21)\n",
        "\n",
        "A1 = np.matmul(B_inverse , W1)\n",
        "print(\"New Location of the user: \")\n",
        "print(A1)\n",
        "p1 = calculate_dist(A1)\n",
        "print(\"location Inaccuracy: \", p1)\n"
      ]
    },
    {
      "cell_type": "markdown",
      "id": "92360c94",
      "metadata": {
        "id": "92360c94"
      },
      "source": [
        "**Question 2d**\n",
        "\n",
        " we are increasing amount of random errors with time, and checking the effect of this change on the localization error. Thereby also plotting a graph on the amount of error in time vs localization error to check the impact."
      ]
    },
    {
      "cell_type": "code",
      "execution_count": 76,
      "id": "d0e8a54f",
      "metadata": {
        "colab": {
          "base_uri": "https://localhost:8080/"
        },
        "id": "d0e8a54f",
        "outputId": "cedb79ab-fe88-4d7f-d424-cdb6621e8661"
      },
      "outputs": [
        {
          "output_type": "stream",
          "name": "stdout",
          "text": [
            "[1.0, 6.666666666666667, 12.0, 16.333333333333332, 21.333333333333332, 26.666666666666668, 31.666666666666668, 38.0, 41.666666666666664, 48.0, 53.333333333333336, 57.333333333333336, 61.0, 69.0, 72.66666666666667, 76.66666666666667, 80.33333333333333, 87.33333333333333, 92.33333333333333, 96.33333333333333, 102.0, 107.0, 111.66666666666667, 117.33333333333333, 121.0, 126.33333333333333, 132.33333333333334, 135.66666666666666, 141.0, 146.66666666666666]\n",
            "[3.2995521341143155e+20, 3.2995521341514193e+20, 3.2995521341863415e+20, 3.2995521342147166e+20, 3.299552134247456e+20, 3.2995521342823753e+20, 3.299552134315115e+20, 3.2995521343565824e+20, 3.299552134380593e+20, 3.299552134422061e+20, 3.299552134456982e+20, 3.299552134483175e+20, 3.2995521345071835e+20, 3.299552134559565e+20, 3.299552134583573e+20, 3.2995521346097657e+20, 3.299552134633772e+20, 3.299552134679607e+20, 3.299552134712346e+20, 3.2995521347385354e+20, 3.2995521347756386e+20, 3.2995521348083804e+20, 3.2995521348389365e+20, 3.2995521348760424e+20, 3.2995521349000475e+20, 3.2995521349349704e+20, 3.299552134974255e+20, 3.299552134996083e+20, 3.299552135031004e+20, 3.299552135068107e+20]\n"
          ]
        }
      ],
      "source": [
        "# t1 , t2 , t3 , t4, t5 indicate the taken for a signal to reach from each of satellites to user.\n",
        "# adding increasing random errors to the time in terms of ns\n",
        "j = 0\n",
        "time_error = []\n",
        "location_error = []\n",
        "\n",
        "i = 0\n",
        "while i < 30:\n",
        "    location_err = []\n",
        "    time_err = []\n",
        "    k = 0\n",
        "    while k < 3:\n",
        "        random_error = np.random.randint(j, j+5, 1)[0]\n",
        "        time_err.append(random_error)\n",
        "        t21 = t1*ns + random_error\n",
        "        t22 = t2*ns + random_error\n",
        "        t23 = t3*ns + random_error\n",
        "        t24 = t4*ns + random_error\n",
        "        t25 = t5*ns + random_error\n",
        "\n",
        "    #calucating distance in meteres between user and satellite considering random errors added to the time\n",
        "        d21 = s * t21/ns\n",
        "        d22 = s * t22/ns\n",
        "        d23 = s * t23/ns\n",
        "        d24 = s * t24/ns\n",
        "        d25 = s * t25/ns\n",
        "\n",
        "    # update matrix_a2\n",
        "        updated_matrix_a22 =[[(d21**2-d22**2)-(s1[0]**2 - s2[0]**2)-(s1[1]**2 - s2[1]**2)-(s1[2]**2 - s2[2]**2)],\n",
        "                         [(d22**2-d23**2)-(s2[0]**2 -s3[0]**2)-(s2[1]**2- s3[1]**2)-(s2[2]**2 - s3[2]**2)],\n",
        "                         [(d23**2-d24**2)-(s3[0]**2 - s4[0]**2)-(s3[1]**2 -s4[1]**2)-(s3[2]**2 -s4[2]**2)],\n",
        "                         [(d24**2-d25**2)-(s4[0]**2 -s5[0]**2)-(s4[1]**2 - s5[1]**2)-(s4[2]**2- s5[2]**2)]]\n",
        "\n",
        "        new_a22 = np.array(updated_matrix_a22)\n",
        "        W2 = np.matmul(M_transpose , new_a22)\n",
        "        A2 = np.matmul(B_inverse , W2)\n",
        "        #print(\"New Location of user: \")\n",
        "        #print(A2)\n",
        "        p2 = calculate_dist(A2)\n",
        "        location_err.append(p2[0])\n",
        "        k=k+1\n",
        "    avg_location_error = sum(location_err)/len(location_err)\n",
        "    avg_time_error = sum(time_err)/len(time_err)\n",
        "    location_error.append(avg_location_error)\n",
        "    time_error.append(avg_time_error)\n",
        "    j=j+5\n",
        "    i=i+1\n",
        "\n",
        "print(time_error)\n",
        "print(location_error)\n"
      ]
    },
    {
      "cell_type": "code",
      "execution_count": 78,
      "id": "4bc30fc5",
      "metadata": {
        "colab": {
          "base_uri": "https://localhost:8080/",
          "height": 487
        },
        "id": "4bc30fc5",
        "outputId": "b1639da5-18c1-47f7-d5d0-d56decb6858e"
      },
      "outputs": [
        {
          "output_type": "display_data",
          "data": {
            "text/plain": [
              "<Figure size 640x480 with 1 Axes>"
            ],
            "image/png": "[encoded data removed]"
          },
          "metadata": {}
        }
      ],
      "source": [
        "mplt.plot(time_error, location_error,marker='o',color='y')\n",
        "mplt.title('error in time vs localization error')\n",
        "mplt.xlabel('error in time')\n",
        "mplt.ylabel('error in localization')\n",
        "mplt.grid()\n",
        "mplt.show()"
      ]
    },
    {
      "cell_type": "markdown",
      "id": "6cbf26da",
      "metadata": {
        "id": "6cbf26da"
      },
      "source": [
        "**From the above figure of error in time vs localization error it can inferred** **that on increasing the amount of random errors with time the** **corresponding average localization error also increases.**"
      ]
    }
  ],
  "metadata": {
    "kernelspec": {
      "display_name": "Python 3 (ipykernel)",
      "language": "python",
      "name": "python3"
    },
    "language_info": {
      "codemirror_mode": {
        "name": "ipython",
        "version": 3
      },
      "file_extension": ".py",
      "mimetype": "text/x-python",
      "name": "python",
      "nbconvert_exporter": "python",
      "pygments_lexer": "ipython3",
      "version": "3.9.12"
    },
    "colab": {
      "provenance": []
    }
  },
  "nbformat": 4,
  "nbformat_minor": 5
}